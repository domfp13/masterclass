{
 "cells": [
  {
   "cell_type": "code",
   "execution_count": 0,
   "metadata": {
    "application/vnd.databricks.v1+cell": {
     "cellMetadata": {
      "byteLimit": 2048000,
      "rowLimit": 10000
     },
     "inputWidgets": {},
     "nuid": "f71780b8-cd0d-41b1-ad7c-a2b2d603962a",
     "showTitle": false,
     "tableResultSettingsMap": {},
     "title": ""
    }
   },
   "outputs": [],
   "source": [
    "dbutils.secrets.list(scope = 'dbx-scope')"
   ]
  },
  {
   "cell_type": "code",
   "execution_count": 0,
   "metadata": {
    "application/vnd.databricks.v1+cell": {
     "cellMetadata": {
      "byteLimit": 2048000,
      "rowLimit": 10000
     },
     "inputWidgets": {},
     "nuid": "af972d61-260d-4f2c-a188-dd458799c46c",
     "showTitle": false,
     "tableResultSettingsMap": {},
     "title": ""
    }
   },
   "outputs": [],
   "source": [
    "client_id = dbutils.secrets.get(scope='dbx-scope', key='dbx-app-client-id')\n",
    "tenant_id = dbutils.secrets.get(scope='dbx-scope', key='dbx-app-tenant-id')\n",
    "client_secret = dbutils.secrets.get(scope='dbx-scope', key='dbx-app-client-secret')\n",
    "tenant_id = dbutils.secrets.get(scope='dbx-scope', key='dbx-app-tenant-id')"
   ]
  },
  {
   "cell_type": "code",
   "execution_count": 0,
   "metadata": {
    "application/vnd.databricks.v1+cell": {
     "cellMetadata": {
      "byteLimit": 2048000,
      "rowLimit": 10000
     },
     "inputWidgets": {},
     "nuid": "dde5a5f6-1a1d-4d9e-a713-a47e259a1774",
     "showTitle": false,
     "tableResultSettingsMap": {},
     "title": ""
    }
   },
   "outputs": [],
   "source": [
    "configs = {\"fs.azure.account.auth.type\": \"OAuth\",\n",
    "          \"fs.azure.account.oauth.provider.type\": \"org.apache.hadoop.fs.azurebfs.oauth2.ClientCredsTokenProvider\",\n",
    "          \"fs.azure.account.oauth2.client.id\": client_id,\n",
    "          \"fs.azure.account.oauth2.client.secret\": client_secret,\n",
    "          \"fs.azure.account.oauth2.client.endpoint\": f\"https://login.microsoftonline.com/{tenant_id}/oauth2/token\"}"
   ]
  },
  {
   "cell_type": "markdown",
   "metadata": {
    "application/vnd.databricks.v1+cell": {
     "cellMetadata": {
      "byteLimit": 2048000,
      "rowLimit": 10000
     },
     "inputWidgets": {},
     "nuid": "ccb12a4d-5b76-4a60-b4ef-7a2788ebaa87",
     "showTitle": false,
     "tableResultSettingsMap": {},
     "title": ""
    }
   },
   "source": [
    "##Mounting Storage Account containers: deltahive & demo"
   ]
  },
  {
   "cell_type": "code",
   "execution_count": 0,
   "metadata": {
    "application/vnd.databricks.v1+cell": {
     "cellMetadata": {
      "byteLimit": 2048000,
      "rowLimit": 10000
     },
     "inputWidgets": {},
     "nuid": "48800519-10eb-4f90-9431-93fce1e4e82f",
     "showTitle": false,
     "tableResultSettingsMap": {},
     "title": ""
    }
   },
   "outputs": [],
   "source": [
    "dbutils.fs.mount(\n",
    "  source = \"abfss://deltahive@dbxdl.dfs.core.windows.net/\",\n",
    "  mount_point = \"/mnt/deltahive\",\n",
    "  extra_configs = configs)\n",
    "\n",
    "# dbutils.fs.unmount('/mnt/deltahive')"
   ]
  },
  {
   "cell_type": "code",
   "execution_count": 0,
   "metadata": {
    "application/vnd.databricks.v1+cell": {
     "cellMetadata": {
      "byteLimit": 2048000,
      "rowLimit": 10000
     },
     "inputWidgets": {},
     "nuid": "827c62c0-d341-40e4-87a4-22811090e716",
     "showTitle": false,
     "tableResultSettingsMap": {},
     "title": ""
    }
   },
   "outputs": [],
   "source": [
    "dbutils.fs.mount(\n",
    "  source = \"abfss://demo@dbxdl.dfs.core.windows.net/\",\n",
    "  mount_point = \"/mnt/demo\",\n",
    "  extra_configs = configs)\n",
    "\n",
    "# dbutils.fs.unmount('/mnt/demo')"
   ]
  },
  {
   "cell_type": "markdown",
   "metadata": {
    "application/vnd.databricks.v1+cell": {
     "cellMetadata": {
      "byteLimit": 2048000,
      "rowLimit": 10000
     },
     "inputWidgets": {},
     "nuid": "2bf174b6-f3ae-412e-b46a-c7688210ca23",
     "showTitle": false,
     "tableResultSettingsMap": {},
     "title": ""
    }
   },
   "source": [
    "### Show Mounts"
   ]
  },
  {
   "cell_type": "code",
   "execution_count": 0,
   "metadata": {
    "application/vnd.databricks.v1+cell": {
     "cellMetadata": {
      "byteLimit": 2048000,
      "rowLimit": 10000
     },
     "inputWidgets": {},
     "nuid": "87d06272-0eb2-43ab-946c-3e955cd5069c",
     "showTitle": false,
     "tableResultSettingsMap": {},
     "title": ""
    }
   },
   "outputs": [],
   "source": [
    "display(dbutils.fs.ls('/mnt/'))"
   ]
  },
  {
   "cell_type": "code",
   "execution_count": 0,
   "metadata": {
    "application/vnd.databricks.v1+cell": {
     "cellMetadata": {
      "byteLimit": 2048000,
      "rowLimit": 10000
     },
     "inputWidgets": {},
     "nuid": "e28678ed-f78c-4893-ad50-eb7449749d3a",
     "showTitle": false,
     "tableResultSettingsMap": {},
     "title": ""
    }
   },
   "outputs": [],
   "source": [
    "dbutils.fs.ls('dbfs:/mnt/deltahive/')"
   ]
  },
  {
   "cell_type": "markdown",
   "metadata": {
    "application/vnd.databricks.v1+cell": {
     "cellMetadata": {
      "byteLimit": 2048000,
      "rowLimit": 10000
     },
     "inputWidgets": {},
     "nuid": "6b6f4354-aa03-4f9b-9106-20804460487a",
     "showTitle": false,
     "tableResultSettingsMap": {},
     "title": ""
    }
   },
   "source": [
    "## Creating Delta Tables without UnityCatalgo (aka Hive Metastore)"
   ]
  },
  {
   "cell_type": "code",
   "execution_count": 0,
   "metadata": {
    "application/vnd.databricks.v1+cell": {
     "cellMetadata": {
      "byteLimit": 2048000,
      "implicitDf": true,
      "rowLimit": 10000
     },
     "inputWidgets": {},
     "nuid": "14e169c3-ab5a-47b5-87de-4f7b343a4aff",
     "showTitle": false,
     "tableResultSettingsMap": {},
     "title": ""
    }
   },
   "outputs": [],
   "source": [
    "%sql\n",
    "CREATE DATABASE IF NOT EXISTS MASTERCLASS_HIVEMETA\n",
    "LOCATION 'dbfs:/mnt/deltahive/';"
   ]
  },
  {
   "cell_type": "code",
   "execution_count": 0,
   "metadata": {
    "application/vnd.databricks.v1+cell": {
     "cellMetadata": {
      "byteLimit": 2048000,
      "rowLimit": 10000
     },
     "inputWidgets": {},
     "nuid": "008aae27-43ea-4ba6-a2f9-09fa9c660dcf",
     "showTitle": false,
     "tableResultSettingsMap": {},
     "title": ""
    }
   },
   "outputs": [],
   "source": [
    "df = spark.read.option(\"inferSchema\", True).csv(\"dbfs:/mnt/demo/circuits.csv\", header=True)"
   ]
  },
  {
   "cell_type": "code",
   "execution_count": 0,
   "metadata": {
    "application/vnd.databricks.v1+cell": {
     "cellMetadata": {
      "byteLimit": 2048000,
      "rowLimit": 10000
     },
     "inputWidgets": {},
     "nuid": "22cf8657-bbb6-417c-afa9-00f3f2db202f",
     "showTitle": false,
     "tableResultSettingsMap": {},
     "title": ""
    }
   },
   "outputs": [],
   "source": [
    "display(df.limit(5))"
   ]
  },
  {
   "cell_type": "code",
   "execution_count": 0,
   "metadata": {
    "application/vnd.databricks.v1+cell": {
     "cellMetadata": {
      "byteLimit": 2048000,
      "rowLimit": 10000
     },
     "inputWidgets": {},
     "nuid": "f467480b-d3d0-4d14-8bc1-0cb6428106ad",
     "showTitle": false,
     "tableResultSettingsMap": {},
     "title": ""
    }
   },
   "outputs": [],
   "source": [
    "from pyspark.sql import functions as F\n",
    "cardinality_df = df.select([F.countDistinct(c).alias(c) for c in df.columns])\n",
    "cardinality_df.show(truncate=False)"
   ]
  },
  {
   "cell_type": "markdown",
   "metadata": {
    "application/vnd.databricks.v1+cell": {
     "cellMetadata": {},
     "inputWidgets": {},
     "nuid": "e15b79b0-e2c0-4fcd-9a00-d4a38068baca",
     "showTitle": false,
     "tableResultSettingsMap": {},
     "title": ""
    }
   },
   "source": [
    "### file-size autotuner\n",
    "It is on by default for Unity Catalog tables and for hive-metastore **tables running on DBR 11.3+**; it is bypassed only if you hard-code delta.targetFileSize or set explicit Spark overrides\n",
    "\n",
    "Other table properties:\n",
    "\n",
    "| Category                     | Property                              | Value                        |\n",
    "|------------------------------|---------------------------------------|------------------------------|\n",
    "| **Core Table Behavior**      | `delta.appendOnly`                    | `true`                       |\n",
    "|                              | `delta.enableChangeDataFeed`          | `true`                       |\n",
    "|                              | `delta.enableTypeWidening`            | `true`                       |\n",
    "|                              | `delta.columnMapping.mode`            | `name`                       |\n",
    "|                              | `delta.isolationLevel`                | `WriteSerializable`          |\n",
    "| **Performance & Optimization** | `delta.autoOptimize.optimizeWrite`   | `true`                       |\n",
    "|                              | `delta.autoOptimize.autoCompact`      | `true`                       |\n",
    "|                              | `delta.tuneFileSizesForRewrites`      | `true`                       |\n",
    "|                              | `delta.targetFileSize`                | `134217728` (128 MB in bytes)|\n",
    "| **Data Skipping & Statistics** | `delta.dataSkippingNumIndexedCols`   | `32`                         |\n",
    "|                              | `delta.checkpoint.writeStatsAsJson`   | `true`                       |\n",
    "|                              | `delta.checkpoint.writeStatsAsStruct` | `true`                       |\n",
    "| **Retention & Cleanup**      | `delta.deletedFileRetentionDuration`  | `interval 7 days`            |\n",
    "|                              | `delta.logRetentionDuration`          | `interval 30 days`           |\n",
    "| **Compatibility & Interoperability** | `delta.checkpointPolicy`       | `classic`                    |\n",
    "|                              | `delta.enableIcebergCompatV2`         | `false`                      |\n",
    "|                              | `delta.universalFormat.enabledFormats`| `iceberg`                    |\n",
    "| **Advanced Features**        | `delta.enableDeletionVectors`         | `true`                       |\n",
    "|                              | `delta.randomizeFilePrefixes`         | `true`                       |\n",
    "|                              | `delta.randomPrefixLength`            | `8`                          |"
   ]
  },
  {
   "cell_type": "code",
   "execution_count": 0,
   "metadata": {
    "application/vnd.databricks.v1+cell": {
     "cellMetadata": {
      "byteLimit": 2048000,
      "implicitDf": true,
      "rowLimit": 10000
     },
     "inputWidgets": {},
     "nuid": "b4a70513-1a97-46fa-8ebb-d842a19f254a",
     "showTitle": false,
     "tableResultSettingsMap": {},
     "title": ""
    }
   },
   "outputs": [],
   "source": [
    "%sql\n",
    "CREATE TABLE IF NOT EXISTS CIRCUITS (\n",
    "  circuitId        INT,\n",
    "  circuitRef       STRING,\n",
    "  name             STRING,\n",
    "  location         STRING,\n",
    "  country          STRING,\n",
    "  lat              DOUBLE,\n",
    "  lng              DOUBLE,\n",
    "  alt              INT,\n",
    "  url              STRING\n",
    ")\n",
    "USING DELTA\n",
    "PARTITIONED BY (country)\n",
    "LOCATION 'dbfs:/mnt/deltahive/circuits'\n",
    "TBLPROPERTIES (\n",
    "  'delta.autoOptimize.optimizeWrite'   = 'true',\n",
    "  'delta.autoOptimize.autoCompact'     = 'true'\n",
    ");"
   ]
  },
  {
   "cell_type": "code",
   "execution_count": 0,
   "metadata": {
    "application/vnd.databricks.v1+cell": {
     "cellMetadata": {
      "byteLimit": 2048000,
      "rowLimit": 10000
     },
     "inputWidgets": {},
     "nuid": "cfe350c1-4af8-4815-b74f-ffc8fe16743b",
     "showTitle": false,
     "tableResultSettingsMap": {},
     "title": ""
    }
   },
   "outputs": [],
   "source": [
    "df.write.format(\"delta\").mode(\"overwrite\").partitionBy('country').saveAsTable(\"MASTERCLASS_HIVEMETA.CIRCUITS\")"
   ]
  },
  {
   "cell_type": "code",
   "execution_count": 0,
   "metadata": {
    "application/vnd.databricks.v1+cell": {
     "cellMetadata": {
      "byteLimit": 2048000,
      "implicitDf": true,
      "rowLimit": 10000
     },
     "inputWidgets": {},
     "nuid": "5eb522ba-1524-482c-9e0a-ddde604c4d12",
     "showTitle": false,
     "tableResultSettingsMap": {},
     "title": ""
    }
   },
   "outputs": [],
   "source": [
    "%sql\n",
    "SELECT COUNTRY, count(*)\n",
    "FROM MASTERCLASS_HIVEMETA.CIRCUITS\n",
    "GROUP BY COUNTRY\n",
    "ORDER BY 2 DESC\n",
    "LIMIT 5"
   ]
  },
  {
   "cell_type": "code",
   "execution_count": 0,
   "metadata": {
    "application/vnd.databricks.v1+cell": {
     "cellMetadata": {
      "byteLimit": 2048000,
      "implicitDf": true,
      "rowLimit": 10000
     },
     "inputWidgets": {},
     "nuid": "db86fc65-8370-4313-a5ad-586acaa26a98",
     "showTitle": false,
     "tableResultSettingsMap": {},
     "title": ""
    }
   },
   "outputs": [],
   "source": [
    "%sql\n",
    "DESC TABLE MASTERCLASS_HIVEMETA.CIRCUITS;"
   ]
  },
  {
   "cell_type": "code",
   "execution_count": 0,
   "metadata": {
    "application/vnd.databricks.v1+cell": {
     "cellMetadata": {
      "byteLimit": 2048000,
      "implicitDf": true,
      "rowLimit": 10000
     },
     "inputWidgets": {},
     "nuid": "b37569e3-39f6-4f97-be62-a0df09cc5d85",
     "showTitle": false,
     "tableResultSettingsMap": {},
     "title": ""
    }
   },
   "outputs": [],
   "source": [
    "%sql\n",
    "SHOW PARTITIONS MASTERCLASS_HIVEMETA.CIRCUITS;"
   ]
  },
  {
   "cell_type": "code",
   "execution_count": 0,
   "metadata": {
    "application/vnd.databricks.v1+cell": {
     "cellMetadata": {
      "byteLimit": 2048000,
      "implicitDf": true,
      "rowLimit": 10000
     },
     "inputWidgets": {},
     "nuid": "c8a36943-4c72-4ee3-a898-9aba84b55df8",
     "showTitle": false,
     "tableResultSettingsMap": {},
     "title": ""
    }
   },
   "outputs": [],
   "source": [
    "%sql\n",
    "--DROP TABLE IF EXISTS MASTERCLASS_HIVEMETA.CIRCUITS;"
   ]
  },
  {
   "cell_type": "code",
   "execution_count": 0,
   "metadata": {
    "application/vnd.databricks.v1+cell": {
     "cellMetadata": {
      "byteLimit": 2048000,
      "rowLimit": 10000
     },
     "inputWidgets": {},
     "nuid": "220b16ec-ed21-4935-810a-ff2f5caa0d27",
     "showTitle": false,
     "tableResultSettingsMap": {},
     "title": ""
    }
   },
   "outputs": [],
   "source": [
    "#spark.sql(\"DROP TABLE IF EXISTS default.circuits\")"
   ]
  }
 ],
 "metadata": {
  "application/vnd.databricks.v1+notebook": {
   "computePreferences": null,
   "dashboards": [],
   "environmentMetadata": {
    "base_environment": "",
    "environment_version": "2"
   },
   "inputWidgetPreferences": null,
   "language": "python",
   "notebookMetadata": {
    "mostRecentlyExecutedCommandWithImplicitDF": {
     "commandId": 8734922929993049,
     "dataframes": [
      "_sqldf"
     ]
    },
    "pythonIndentUnit": 4
   },
   "notebookName": "platform_no_unity_catalog",
   "widgets": {}
  },
  "language_info": {
   "name": "python"
  }
 },
 "nbformat": 4,
 "nbformat_minor": 0
}
