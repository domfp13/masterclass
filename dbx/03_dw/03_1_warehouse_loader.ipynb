{
 "cells": [
  {
   "cell_type": "code",
   "execution_count": 0,
   "metadata": {
    "application/vnd.databricks.v1+cell": {
     "cellMetadata": {
      "byteLimit": 2048000,
      "implicitDf": true,
      "rowLimit": 10000
     },
     "collapsed": true,
     "inputWidgets": {},
     "nuid": "46fa5439-b006-4aaa-8cbd-4f598b80dc78",
     "showTitle": false,
     "tableResultSettingsMap": {},
     "title": ""
    }
   },
   "outputs": [],
   "source": [
    "%sql\n",
    "SHOW EXTERNAL LOCATIONS;"
   ]
  },
  {
   "cell_type": "code",
   "execution_count": 0,
   "metadata": {
    "application/vnd.databricks.v1+cell": {
     "cellMetadata": {
      "byteLimit": 2048000,
      "implicitDf": true,
      "rowLimit": 10000
     },
     "inputWidgets": {},
     "nuid": "de487bb2-13ba-4081-a6e5-901c4d649019",
     "showTitle": false,
     "tableResultSettingsMap": {},
     "title": ""
    }
   },
   "outputs": [],
   "source": [
    "%sql\n",
    "LIST 'abfss://demo@dbxdl.dfs.core.windows.net/lineitems/' WITH (CREDENTIAL `dbxdl-storage-account-creds`);"
   ]
  },
  {
   "cell_type": "code",
   "execution_count": 0,
   "metadata": {
    "application/vnd.databricks.v1+cell": {
     "cellMetadata": {
      "byteLimit": 2048000,
      "implicitDf": true,
      "rowLimit": 10000
     },
     "inputWidgets": {},
     "nuid": "ddf25946-1fba-46d7-86ba-eb0f130eb20f",
     "showTitle": false,
     "tableResultSettingsMap": {},
     "title": ""
    }
   },
   "outputs": [],
   "source": [
    "%sql\n",
    "SHOW CATALOGS;"
   ]
  },
  {
   "cell_type": "code",
   "execution_count": 0,
   "metadata": {
    "application/vnd.databricks.v1+cell": {
     "cellMetadata": {
      "byteLimit": 2048000,
      "implicitDf": true,
      "rowLimit": 10000
     },
     "inputWidgets": {},
     "nuid": "57d561ce-54ea-478c-a627-0cd82388cfc8",
     "showTitle": false,
     "tableResultSettingsMap": {},
     "title": ""
    }
   },
   "outputs": [],
   "source": [
    "%sql\n",
    "DROP CATALOG IF EXISTS MASTERCLASS;\n",
    "CREATE CATALOG IF NOT EXISTS MASTERCLASS;"
   ]
  },
  {
   "cell_type": "code",
   "execution_count": 0,
   "metadata": {
    "application/vnd.databricks.v1+cell": {
     "cellMetadata": {
      "byteLimit": 2048000,
      "implicitDf": true,
      "rowLimit": 10000
     },
     "inputWidgets": {},
     "nuid": "020ef62a-4ad4-4f30-bd6a-839a6f983e58",
     "showTitle": false,
     "tableResultSettingsMap": {},
     "title": ""
    }
   },
   "outputs": [],
   "source": [
    "%sql\n",
    "USE CATALOG MASTERCLASS;"
   ]
  },
  {
   "cell_type": "code",
   "execution_count": 0,
   "metadata": {
    "application/vnd.databricks.v1+cell": {
     "cellMetadata": {
      "byteLimit": 2048000,
      "implicitDf": true,
      "rowLimit": 10000
     },
     "inputWidgets": {},
     "nuid": "bfa1406b-ec65-4584-bce1-d18809192d9c",
     "showTitle": false,
     "tableResultSettingsMap": {},
     "title": ""
    }
   },
   "outputs": [],
   "source": [
    "%sql\n",
    "CREATE SCHEMA IF NOT EXISTS BRONZE\n",
    " MANAGED LOCATION \"abfss://delta@dbxdl.dfs.core.windows.net/bronze/\";"
   ]
  },
  {
   "cell_type": "code",
   "execution_count": 0,
   "metadata": {
    "application/vnd.databricks.v1+cell": {
     "cellMetadata": {
      "byteLimit": 2048000,
      "implicitDf": true,
      "rowLimit": 10000
     },
     "inputWidgets": {},
     "nuid": "b2869c9c-b333-4b62-af96-558f48d66510",
     "showTitle": false,
     "tableResultSettingsMap": {},
     "title": ""
    }
   },
   "outputs": [],
   "source": [
    "%sql\n",
    "SELECT * FROM PARQUET.`abfss://warehouse@dbxdl.dfs.core.windows.net/lineitems/*` LIMIT 5;"
   ]
  },
  {
   "cell_type": "code",
   "execution_count": 0,
   "metadata": {
    "application/vnd.databricks.v1+cell": {
     "cellMetadata": {
      "byteLimit": 2048000,
      "implicitDf": true,
      "rowLimit": 10000
     },
     "inputWidgets": {},
     "nuid": "b3735c85-cda5-43c5-bafb-7a205f9b1846",
     "showTitle": false,
     "tableResultSettingsMap": {},
     "title": ""
    }
   },
   "outputs": [],
   "source": [
    "%sql\n",
    "CREATE OR REPLACE TABLE MASTERCLASS.BRONZE.RAW_LINEITEMS_WAREHOUSE (\n",
    "  V VARIANT\n",
    ") USING DELTA;"
   ]
  },
  {
   "cell_type": "code",
   "execution_count": 0,
   "metadata": {
    "application/vnd.databricks.v1+cell": {
     "cellMetadata": {
      "byteLimit": 2048000,
      "implicitDf": true,
      "rowLimit": 10000
     },
     "inputWidgets": {},
     "nuid": "45281e8b-4bd9-4195-8645-dbc9277eb8a5",
     "showTitle": false,
     "tableResultSettingsMap": {},
     "title": ""
    }
   },
   "outputs": [],
   "source": [
    "%sql\n",
    "COPY INTO MASTERCLASS.BRONZE.RAW_LINEITEMS_WAREHOUSE\n",
    "FROM (\n",
    "  SELECT parse_json(to_json(struct(*))) AS V \n",
    "  FROM 'abfss://warehouse@dbxdl.dfs.core.windows.net/lineitems/*'\n",
    ")\n",
    "FILEFORMAT = PARQUET\n",
    "FORMAT_OPTIONS ('singleVariantColumn' = 'true');"
   ]
  },
  {
   "cell_type": "code",
   "execution_count": 0,
   "metadata": {
    "application/vnd.databricks.v1+cell": {
     "cellMetadata": {
      "byteLimit": 2048000,
      "implicitDf": true,
      "rowLimit": 10000
     },
     "inputWidgets": {},
     "nuid": "0eec022a-7b44-404b-a118-dcb415508db5",
     "showTitle": false,
     "tableResultSettingsMap": {},
     "title": ""
    }
   },
   "outputs": [],
   "source": [
    "%sql\n",
    "-- Counting 59,986,052\n",
    "SELECT COUNT(*) FROM MASTERCLASS.BRONZE.RAW_LINEITEMS_WAREHOUSE;"
   ]
  },
  {
   "cell_type": "code",
   "execution_count": 0,
   "metadata": {
    "application/vnd.databricks.v1+cell": {
     "cellMetadata": {
      "byteLimit": 2048000,
      "implicitDf": true,
      "rowLimit": 10000
     },
     "inputWidgets": {},
     "nuid": "40a00c2a-2be9-47ee-b00c-4d0c9001fd96",
     "showTitle": false,
     "tableResultSettingsMap": {},
     "title": ""
    }
   },
   "outputs": [],
   "source": [
    "%sql\n",
    "-- Selecting 5 random values\n",
    "SELECT\n",
    "  variant_get(V, '$.L_ORDERKEY') AS order_key,\n",
    "  variant_get(V, '$.L_PARTKEY') AS part_key,\n",
    "  variant_get(V, '$.L_SUPPKEY') AS supp_key,\n",
    "  variant_get(V, '$.L_LINENUMBER') AS line_number,\n",
    "  variant_get(V, '$.L_QUANTITY') AS quantity,\n",
    "  variant_get(V, '$.L_EXTENDEDPRICE') AS extended_price,\n",
    "  variant_get(V, '$.L_DISCOUNT') AS discount,\n",
    "  variant_get(V, '$.L_TAX') AS tax,\n",
    "  variant_get(V, '$.L_RETURNFLAG') AS return_flag,\n",
    "  variant_get(V, '$.L_LINESTATUS') AS line_status,\n",
    "  variant_get(V, '$.L_SHIPDATE') AS ship_date,\n",
    "  variant_get(V, '$.L_COMMITDATE') AS commit_date,\n",
    "  variant_get(V, '$.L_RECEIPTDATE') AS receipt_date,\n",
    "  variant_get(V, '$.L_SHIPINSTRUCT') AS ship_instruct,\n",
    "  variant_get(V, '$.L_SHIPMODE') AS ship_mode,\n",
    "  variant_get(V, '$.L_COMMENT') AS comment\n",
    "FROM MASTERCLASS.BRONZE.RAW_LINEITEMS_WAREHOUSE\n",
    "ORDER BY RAND() LIMIT 5;"
   ]
  },
  {
   "cell_type": "code",
   "execution_count": 0,
   "metadata": {
    "application/vnd.databricks.v1+cell": {
     "cellMetadata": {
      "byteLimit": 2048000,
      "implicitDf": true,
      "rowLimit": 10000
     },
     "inputWidgets": {},
     "nuid": "5e1e2ef9-4f69-41ef-bd68-19f842847258",
     "showTitle": false,
     "tableResultSettingsMap": {},
     "title": ""
    }
   },
   "outputs": [],
   "source": [
    "%sql\n",
    "-- QUERY RECORDS\n",
    "SELECT\n",
    "  variant_get(V, '$.L_ORDERKEY') AS order_key,\n",
    "  variant_get(V, '$.L_PARTKEY') AS part_key,\n",
    "  variant_get(V, '$.L_SUPPKEY') AS supp_key,\n",
    "  variant_get(V, '$.L_LINENUMBER') AS line_number,\n",
    "  variant_get(V, '$.L_QUANTITY') AS quantity,\n",
    "  variant_get(V, '$.L_EXTENDEDPRICE') AS extended_price,\n",
    "  variant_get(V, '$.L_DISCOUNT') AS discount,\n",
    "  variant_get(V, '$.L_TAX') AS tax,\n",
    "  variant_get(V, '$.L_RETURNFLAG') AS return_flag,\n",
    "  variant_get(V, '$.L_LINESTATUS') AS line_status,\n",
    "  variant_get(V, '$.L_SHIPDATE') AS ship_date,\n",
    "  variant_get(V, '$.L_COMMITDATE') AS commit_date,\n",
    "  variant_get(V, '$.L_RECEIPTDATE') AS receipt_date,\n",
    "  variant_get(V, '$.L_SHIPINSTRUCT') AS ship_instruct,\n",
    "  variant_get(V, '$.L_SHIPMODE') AS ship_mode,\n",
    "  variant_get(V, '$.L_COMMENT') AS comment\n",
    "FROM MASTERCLASS.BRONZE.RAW_LINEITEMS_WAREHOUSE\n",
    "-- This will failed due to the premature SQL engine, the attribute needs to be casted twice\n",
    "--WHERE order_key IN (\n",
    "WHERE CAST(variant_get(V, '$.L_ORDERKEY') AS STRING) IN (\n",
    "'30370724',\n",
    "'43675749',\n",
    "'46386755',\n",
    "'39896960',\n",
    "'51780611'\n",
    ");"
   ]
  },
  {
   "cell_type": "code",
   "execution_count": 0,
   "metadata": {
    "application/vnd.databricks.v1+cell": {
     "cellMetadata": {
      "byteLimit": 2048000,
      "implicitDf": true,
      "rowLimit": 10000
     },
     "inputWidgets": {},
     "nuid": "1b7b907e-0e60-4057-bc15-edddaae71a9e",
     "showTitle": false,
     "tableResultSettingsMap": {},
     "title": ""
    }
   },
   "outputs": [],
   "source": [
    "%sql\n",
    "-- Creating table\n",
    "CREATE OR REPLACE TABLE MASTERCLASS.BRONZE.LINEITEMS_WAREHOUSE\n",
    "USING DELTA\n",
    "AS\n",
    "SELECT\n",
    "  CAST(variant_get(V, '$.L_ORDERKEY') AS VARCHAR(15)) AS L_ORDERKEY,\n",
    "  CAST(variant_get(V, '$.L_PARTKEY') AS VARCHAR(15)) AS L_PARTKEY,\n",
    "  CAST(variant_get(V, '$.L_SUPPKEY') AS VARCHAR(15)) AS L_SUPPKEY,\n",
    "  CAST(variant_get(V, '$.L_LINENUMBER') AS INT) AS L_LINENUMBER,\n",
    "  CAST(variant_get(V, '$.L_QUANTITY') AS FLOAT) AS L_QUANTITY,\n",
    "  CAST(variant_get(V, '$.L_EXTENDEDPRICE') AS FLOAT) AS L_EXTENDEDPRICE,\n",
    "  CAST(variant_get(V, '$.L_DISCOUNT') AS FLOAT) AS L_DISCOUNT,\n",
    "  CAST(variant_get(V, '$.L_TAX') AS FLOAT) AS L_TAX,\n",
    "  CAST(variant_get(V, '$.L_RETURNFLAG') AS VARCHAR(30)) AS L_RETURNFLAG,\n",
    "  CAST(variant_get(V, '$.L_LINESTATUS') AS VARCHAR(30)) AS L_LINESTATUS,\n",
    "  CAST(variant_get(V, '$.L_SHIPDATE') AS DATE) AS L_SHIPDATE,\n",
    "  CAST(variant_get(V, '$.L_COMMITDATE') AS DATE) AS L_COMMITDATE,\n",
    "  CAST(variant_get(V, '$.L_RECEIPTDATE') AS DATE) AS L_RECEIPTDATE,\n",
    "  CAST(variant_get(V, '$.L_SHIPINSTRUCT') AS VARCHAR(30)) AS L_SHIPINSTRUCT,\n",
    "  CAST(variant_get(V, '$.L_SHIPMODE') AS VARCHAR(30)) AS L_SHIPMODE,\n",
    "  CAST(variant_get(V, '$.L_COMMENT') AS VARCHAR(100)) AS L_COMMENT\n",
    "FROM masterclass.bronze.raw_lineitems_warehouse;"
   ]
  },
  {
   "cell_type": "markdown",
   "metadata": {
    "application/vnd.databricks.v1+cell": {
     "cellMetadata": {},
     "inputWidgets": {},
     "nuid": "eeeabed0-9b2e-4af6-872e-0b702a57b75f",
     "showTitle": false,
     "tableResultSettingsMap": {},
     "title": ""
    }
   },
   "source": [
    "DROP THINGS"
   ]
  },
  {
   "cell_type": "code",
   "execution_count": 0,
   "metadata": {
    "application/vnd.databricks.v1+cell": {
     "cellMetadata": {
      "byteLimit": 2048000,
      "implicitDf": true,
      "rowLimit": 10000
     },
     "inputWidgets": {},
     "nuid": "6f9619b5-7e3c-47e2-b00e-28bed116df33",
     "showTitle": false,
     "tableResultSettingsMap": {},
     "title": ""
    }
   },
   "outputs": [],
   "source": [
    "%sql\n",
    "USE CATALOG MASTERCLASS;\n",
    "USE SCHEMA bronze;"
   ]
  },
  {
   "cell_type": "code",
   "execution_count": 0,
   "metadata": {
    "application/vnd.databricks.v1+cell": {
     "cellMetadata": {
      "byteLimit": 2048000,
      "implicitDf": true,
      "rowLimit": 10000
     },
     "inputWidgets": {},
     "nuid": "8175784c-5949-492e-bf31-a8e134078602",
     "showTitle": false,
     "tableResultSettingsMap": {},
     "title": ""
    }
   },
   "outputs": [],
   "source": [
    "%sql\n",
    "DROP TABLE IF EXISTS masterclass.bronze.lineitems;\n",
    "DROP TABLE IF EXISTS masterclass.bronze.lineitems_warehouse;\n",
    "DROP TABLE IF EXISTS masterclass.bronze.raw_lineitems;\n",
    "DROP TABLE IF EXISTS masterclass.bronze.raw_lineitems_warehouse;\n",
    "DROP TABLE IF EXISTS masterclass.bronze.raw_lineitems_dlt;"
   ]
  },
  {
   "cell_type": "code",
   "execution_count": 0,
   "metadata": {
    "application/vnd.databricks.v1+cell": {
     "cellMetadata": {
      "byteLimit": 2048000,
      "implicitDf": true,
      "rowLimit": 10000
     },
     "inputWidgets": {},
     "nuid": "84755e87-801d-4d7d-8acf-fcf94e444b11",
     "showTitle": false,
     "tableResultSettingsMap": {},
     "title": ""
    }
   },
   "outputs": [],
   "source": [
    "%sql\n",
    "DROP SCHEMA IF EXISTS masterclass.bronze CASCADE;\n",
    "DROP SCHEMA IF EXISTS masterclass.silver CASCADE;\n",
    "DROP SCHEMA IF EXISTS masterclass.default CASCADE;"
   ]
  }
 ],
 "metadata": {
  "application/vnd.databricks.v1+notebook": {
   "computePreferences": null,
   "dashboards": [],
   "environmentMetadata": {
    "base_environment": "",
    "environment_version": "2"
   },
   "inputWidgetPreferences": null,
   "language": "python",
   "notebookMetadata": {
    "mostRecentlyExecutedCommandWithImplicitDF": {
     "commandId": 7308666463195320,
     "dataframes": [
      "_sqldf"
     ]
    },
    "pythonIndentUnit": 4
   },
   "notebookName": "02_1_warehouse",
   "widgets": {}
  },
  "language_info": {
   "name": "python"
  }
 },
 "nbformat": 4,
 "nbformat_minor": 0
}