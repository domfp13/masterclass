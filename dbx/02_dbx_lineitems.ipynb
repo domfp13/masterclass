{
 "cells": [
  {
   "cell_type": "markdown",
   "metadata": {
    "application/vnd.databricks.v1+cell": {
     "cellMetadata": {},
     "inputWidgets": {},
     "nuid": "feba2cd1-3ee6-48c8-a9b0-be8c0ba8e4af",
     "showTitle": false,
     "tableResultSettingsMap": {},
     "title": ""
    }
   },
   "source": [
    "# Loading Simple File From Storage Location"
   ]
  },
  {
   "cell_type": "code",
   "execution_count": 0,
   "metadata": {
    "application/vnd.databricks.v1+cell": {
     "cellMetadata": {
      "byteLimit": 2048000,
      "implicitDf": true,
      "rowLimit": 10000
     },
     "inputWidgets": {},
     "nuid": "70f7c53b-1ffe-4d3e-a422-188b8c56306a",
     "showTitle": false,
     "tableResultSettingsMap": {},
     "title": ""
    }
   },
   "outputs": [],
   "source": [
    "%sql\n",
    "SHOW EXTERNAL LOCATIONS;"
   ]
  },
  {
   "cell_type": "code",
   "execution_count": 0,
   "metadata": {
    "application/vnd.databricks.v1+cell": {
     "cellMetadata": {
      "byteLimit": 2048000,
      "rowLimit": 10000
     },
     "inputWidgets": {},
     "nuid": "54c12500-ef37-4cdd-a66a-d5dc23b0643c",
     "showTitle": false,
     "tableResultSettingsMap": {},
     "title": ""
    }
   },
   "outputs": [],
   "source": [
    "%sql\n",
    "LIST 'abfss://demo@dbxdl.dfs.core.windows.net/lineitems/' WITH (CREDENTIAL `dbxdl-storage-account-creds`);"
   ]
  },
  {
   "cell_type": "code",
   "execution_count": 0,
   "metadata": {
    "application/vnd.databricks.v1+cell": {
     "cellMetadata": {
      "byteLimit": 2048000,
      "implicitDf": true,
      "rowLimit": 10000
     },
     "inputWidgets": {},
     "nuid": "de184897-5c15-4052-b57f-89fdf7d14c54",
     "showTitle": false,
     "tableResultSettingsMap": {},
     "title": ""
    }
   },
   "outputs": [],
   "source": [
    "%sql\n",
    "CREATE CATALOG IF NOT EXISTS MASTERCLASS;"
   ]
  },
  {
   "cell_type": "code",
   "execution_count": 0,
   "metadata": {
    "application/vnd.databricks.v1+cell": {
     "cellMetadata": {
      "byteLimit": 2048000,
      "implicitDf": true,
      "rowLimit": 10000
     },
     "inputWidgets": {},
     "nuid": "d767bd45-bb17-4f0c-b981-fb494b6b20c9",
     "showTitle": false,
     "tableResultSettingsMap": {},
     "title": ""
    }
   },
   "outputs": [],
   "source": [
    "%sql\n",
    "USE CATALOG MASTERCLASS;"
   ]
  },
  {
   "cell_type": "code",
   "execution_count": 0,
   "metadata": {
    "application/vnd.databricks.v1+cell": {
     "cellMetadata": {
      "byteLimit": 2048000,
      "implicitDf": true,
      "rowLimit": 10000
     },
     "inputWidgets": {},
     "nuid": "f5f58383-d81b-41a1-8e6a-f4214deb5178",
     "showTitle": false,
     "tableResultSettingsMap": {},
     "title": ""
    }
   },
   "outputs": [],
   "source": [
    "%sql\n",
    "CREATE SCHEMA IF NOT EXISTS BRONZE\n",
    " MANAGED LOCATION \"abfss://delta@dbxdl.dfs.core.windows.net/bronze/\";"
   ]
  },
  {
   "cell_type": "code",
   "execution_count": 0,
   "metadata": {
    "application/vnd.databricks.v1+cell": {
     "cellMetadata": {
      "byteLimit": 2048000,
      "implicitDf": true,
      "rowLimit": 10000
     },
     "inputWidgets": {},
     "nuid": "1fc4520e-6f5c-4ed5-9fe5-3a669a02af4b",
     "showTitle": false,
     "tableResultSettingsMap": {},
     "title": ""
    }
   },
   "outputs": [],
   "source": [
    "%sql\n",
    "CREATE OR REPLACE TABLE BRONZE.RAW_LINEITEMS (\n",
    "  V VARIANT\n",
    ") USING DELTA;"
   ]
  },
  {
   "cell_type": "code",
   "execution_count": 0,
   "metadata": {
    "application/vnd.databricks.v1+cell": {
     "cellMetadata": {
      "byteLimit": 2048000,
      "implicitDf": true,
      "rowLimit": 10000
     },
     "inputWidgets": {},
     "nuid": "6e6069af-7a7b-4f4a-95d7-9d2bcc7d246f",
     "showTitle": false,
     "tableResultSettingsMap": {},
     "title": ""
    }
   },
   "outputs": [],
   "source": [
    "%sql\n",
    "SELECT * FROM PARQUET.`abfss://demo@dbxdl.dfs.core.windows.net/lineitems/*` LIMIT 5;"
   ]
  },
  {
   "cell_type": "markdown",
   "metadata": {
    "application/vnd.databricks.v1+cell": {
     "cellMetadata": {},
     "inputWidgets": {},
     "nuid": "e32f368e-0b90-4422-b33e-1b9b1de338f1",
     "showTitle": false,
     "tableResultSettingsMap": {},
     "title": ""
    }
   },
   "source": [
    "### IF data needs to be stored in VARIANT a Parse and struct are needed, otherwise DBX flattens the data"
   ]
  },
  {
   "cell_type": "code",
   "execution_count": 0,
   "metadata": {
    "application/vnd.databricks.v1+cell": {
     "cellMetadata": {
      "byteLimit": 2048000,
      "implicitDf": true,
      "rowLimit": 10000
     },
     "inputWidgets": {},
     "nuid": "459fa216-b5b5-4862-bf9a-055e3921b60f",
     "showTitle": false,
     "tableResultSettingsMap": {},
     "title": ""
    }
   },
   "outputs": [],
   "source": [
    "%sql\n",
    "COPY INTO BRONZE.RAW_LINEITEMS\n",
    "FROM (\n",
    "  SELECT parse_json(to_json(struct(*))) AS V \n",
    "  FROM 'abfss://demo@dbxdl.dfs.core.windows.net/lineitems/*'\n",
    ")\n",
    "FILEFORMAT = PARQUET\n",
    "FORMAT_OPTIONS ('singleVariantColumn' = 'true');"
   ]
  },
  {
   "cell_type": "code",
   "execution_count": 0,
   "metadata": {
    "application/vnd.databricks.v1+cell": {
     "cellMetadata": {
      "byteLimit": 2048000,
      "rowLimit": 10000
     },
     "inputWidgets": {},
     "nuid": "5c7886e9-52bf-4cc5-b5d8-6d7d8109cf50",
     "showTitle": false,
     "tableResultSettingsMap": {},
     "title": ""
    }
   },
   "outputs": [],
   "source": [
    "%sql\n",
    "SELECT COUNT(*) FROM BRONZE.RAW_LINEITEMS;"
   ]
  },
  {
   "cell_type": "code",
   "execution_count": 0,
   "metadata": {
    "application/vnd.databricks.v1+cell": {
     "cellMetadata": {
      "byteLimit": 2048000,
      "rowLimit": 10000
     },
     "inputWidgets": {},
     "nuid": "1410a161-a48b-4466-8b8e-f75eeaa3c2ef",
     "showTitle": false,
     "tableResultSettingsMap": {},
     "title": ""
    }
   },
   "outputs": [],
   "source": [
    "%sql\n",
    "SELECT\n",
    "  variant_get(V, '$.L_ORDERKEY') AS order_key,\n",
    "  variant_get(V, '$.L_PARTKEY') AS part_key,\n",
    "  variant_get(V, '$.L_SUPPKEY') AS supp_key,\n",
    "  variant_get(V, '$.L_LINENUMBER') AS line_number,\n",
    "  variant_get(V, '$.L_QUANTITY') AS quantity,\n",
    "  variant_get(V, '$.L_EXTENDEDPRICE') AS extended_price,\n",
    "  variant_get(V, '$.L_DISCOUNT') AS discount,\n",
    "  variant_get(V, '$.L_TAX') AS tax,\n",
    "  variant_get(V, '$.L_RETURNFLAG') AS return_flag,\n",
    "  variant_get(V, '$.L_LINESTATUS') AS line_status,\n",
    "  variant_get(V, '$.L_SHIPDATE') AS ship_date,\n",
    "  variant_get(V, '$.L_COMMITDATE') AS commit_date,\n",
    "  variant_get(V, '$.L_RECEIPTDATE') AS receipt_date,\n",
    "  variant_get(V, '$.L_SHIPINSTRUCT') AS ship_instruct,\n",
    "  variant_get(V, '$.L_SHIPMODE') AS ship_mode,\n",
    "  variant_get(V, '$.L_COMMENT') AS comment\n",
    "FROM BRONZE.RAW_LINEITEMS\n",
    "LIMIT 3;"
   ]
  },
  {
   "cell_type": "markdown",
   "metadata": {
    "application/vnd.databricks.v1+cell": {
     "cellMetadata": {},
     "inputWidgets": {},
     "nuid": "a5cb9bc7-1689-4c68-8fc5-afe2ededbb8f",
     "showTitle": false,
     "tableResultSettingsMap": {},
     "title": ""
    }
   },
   "source": [
    "## Autoloader DLT"
   ]
  },
  {
   "cell_type": "code",
   "execution_count": 0,
   "metadata": {
    "application/vnd.databricks.v1+cell": {
     "cellMetadata": {
      "byteLimit": 2048000,
      "rowLimit": 10000
     },
     "inputWidgets": {},
     "nuid": "2aeca5db-7412-4765-881a-9b73dbb32ad7",
     "showTitle": false,
     "tableResultSettingsMap": {},
     "title": ""
    }
   },
   "outputs": [],
   "source": [
    "%sql\n",
    "USE CATALOG masterclass;\n",
    "USE SCHEMA bronze;\n",
    "\n",
    "-- Creating DLT\n",
    "CREATE OR REFRESH STREAMING TABLE masterclass.bronze.raw_lineitems_dlt\n",
    "AS\n",
    "SELECT *\n",
    "FROM STREAM read_files(\n",
    "        'abfss://dataeng@dbxdl.dfs.core.windows.net/lineitems/',\n",
    "        format          => 'parquet',\n",
    "        schemaLocation  => 'abfss://delta@dbxdl.dfs.core.windows.net/_schemas/lineitems/'\n",
    ");\n",
    "\n",
    "-- Enable the variantType-preview feature on the table\n",
    "-- ALTER TABLE masterclass.bronze.raw_lineitems_dlt \n",
    "-- SET TBLPROPERTIES ('delta.feature.variantType-preview' = 'supported');"
   ]
  },
  {
   "cell_type": "code",
   "execution_count": 0,
   "metadata": {
    "application/vnd.databricks.v1+cell": {
     "cellMetadata": {
      "byteLimit": 2048000,
      "rowLimit": 10000
     },
     "inputWidgets": {},
     "nuid": "c0b02adf-8455-4a54-986f-f2bf97b775fb",
     "showTitle": false,
     "tableResultSettingsMap": {},
     "title": ""
    }
   },
   "outputs": [],
   "source": [
    "%sql\n",
    "SELECT COUNT(*) FROM masterclass.bronze.raw_lineitems_dlt;"
   ]
  },
  {
   "cell_type": "code",
   "execution_count": 0,
   "metadata": {
    "application/vnd.databricks.v1+cell": {
     "cellMetadata": {
      "byteLimit": 2048000,
      "rowLimit": 10000
     },
     "inputWidgets": {},
     "nuid": "c8f5ceb6-57ac-4938-a098-9dd7006ab625",
     "showTitle": false,
     "tableResultSettingsMap": {},
     "title": ""
    }
   },
   "outputs": [],
   "source": [
    "%sql\n",
    "-- DROP TABLE IF EXISTS masterclass.bronze.raw_lineitems_dlt;"
   ]
  }
 ],
 "metadata": {
  "application/vnd.databricks.v1+notebook": {
   "computePreferences": null,
   "dashboards": [],
   "environmentMetadata": {
    "base_environment": "",
    "environment_version": "2"
   },
   "inputWidgetPreferences": null,
   "language": "python",
   "notebookMetadata": {
    "mostRecentlyExecutedCommandWithImplicitDF": {
     "commandId": -1,
     "dataframes": [
      "_sqldf"
     ]
    },
    "pythonIndentUnit": 4
   },
   "notebookName": "02_dbx_lineitems",
   "widgets": {}
  },
  "language_info": {
   "name": "python"
  }
 },
 "nbformat": 4,
 "nbformat_minor": 0
}