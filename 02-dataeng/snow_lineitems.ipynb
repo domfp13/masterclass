{
 "metadata": {
  "kernelspec": {
   "display_name": "Streamlit Notebook",
   "name": "streamlit"
  },
  "lastEditStatus": {
   "notebookId": "4y7gkfjaiabgvodm7w6f",
   "authorId": "1198241009978",
   "authorName": "ENRIQUEP",
   "authorEmail": "enrique.plata@snowflake.com",
   "sessionId": "9fb96d2d-8f65-4bbf-ba8f-1e496f12d8ae",
   "lastEditTime": 1746358418554
  }
 },
 "nbformat_minor": 5,
 "nbformat": 4,
 "cells": [
  {
   "cell_type": "code",
   "id": "3775908f-ca36-4846-8f38-5adca39217f2",
   "metadata": {
    "language": "python",
    "name": "session_activate"
   },
   "source": "# Import python packages\nimport streamlit as st\nimport pandas as pd\n\n# We can also use Snowpark for our analyses!\nfrom snowflake.snowpark.context import get_active_session\nsession = get_active_session()",
   "execution_count": null,
   "outputs": []
  },
  {
   "cell_type": "markdown",
   "id": "ea66d28e-4f77-4044-9e9f-e963e6ba4bf4",
   "metadata": {
    "name": "not_supported_files",
    "collapsed": false
   },
   "source": "# Native parquet support"
  },
  {
   "cell_type": "code",
   "id": "8d50cbf4-0c8d-4950-86cb-114990437ac9",
   "metadata": {
    "language": "sql",
    "name": "session_setup"
   },
   "source": "USE DATABASE MASTERCLASS;\nUSE SCHEMA PUBLIC;\nUSE WAREHOUSE MASTERCLASSWH;",
   "execution_count": null,
   "outputs": []
  },
  {
   "cell_type": "code",
   "id": "be6bbb37-453a-496c-93fb-1a18753ed885",
   "metadata": {
    "language": "sql",
    "name": "resources",
    "codeCollapsed": false
   },
   "outputs": [],
   "source": "-- Creating File Format if not exists\nCREATE FILE FORMAT IF NOT EXISTS PARQUET_FILE_FORMAT\n TYPE = PARQUET \n COMPRESSION = SNAPPY\n USE_VECTORIZED_SCANNER = TRUE;\n\nLIST @MASTERCLASS.PUBLIC.DATA_STAGE; -- S3 data",
   "execution_count": null
  },
  {
   "cell_type": "code",
   "id": "c695373e-ac74-4b62-a1f1-08206cbd5c81",
   "metadata": {
    "language": "sql",
    "name": "create_table",
    "codeCollapsed": false
   },
   "source": "CREATE OR REPLACE TABLE RAW_LINEITEMS (\n    PK_ID               NUMBER(38, 0) NOT NULL IDENTITY(1,1) COMMENT 'Primary key',\n    V                   VARIANT COMMENT 'This is the JSON data from the file',\n    FILE_NAME           VARCHAR(500) COMMENT 'This is the name of the file that was loaded into S3 bucket',\n    FILE_LAST_MODIFIED  TIMESTAMP_NTZ COMMENT 'This is when the file was loaded into S3 bucket',\n    INSERTED_DATE       TIMESTAMP_NTZ DEFAULT CURRENT_TIMESTAMP() COMMENT 'This is when the record was inserted into the table',\n    CONSTRAINT RAW_LINEITEMS_PK PRIMARY KEY (PK_ID)\n) COMMENT = 'LINEITEMS table to load the data from S3 bucket';",
   "execution_count": null,
   "outputs": []
  },
  {
   "cell_type": "code",
   "id": "3456c4eb-67eb-468f-87c4-6864e54f1575",
   "metadata": {
    "language": "sql",
    "name": "explore_s3_files"
   },
   "outputs": [],
   "source": "SELECT *\nFROM @MASTERCLASS.PUBLIC.DATA_STAGE (FILE_FORMAT => PARQUET_FILE_FORMAT)\nLIMIT 3;",
   "execution_count": null
  },
  {
   "cell_type": "code",
   "id": "bce93b98-c955-4960-a736-95eb8741bd5a",
   "metadata": {
    "language": "sql",
    "name": "load_data"
   },
   "outputs": [],
   "source": "COPY INTO RAW_LINEITEMS (V, FILE_NAME, FILE_LAST_MODIFIED)\nFROM (\n\tSELECT \n\t\t t.$1 AS V\n\t\t,METADATA$FILENAME AS FILE_NAME\n\t\t,METADATA$FILE_LAST_MODIFIED AS FILE_LAST_MODIFIED\n\tFROM @MASTERCLASS.PUBLIC.DATA_STAGE (file_format => PARQUET_FILE_FORMAT) t\n)\nPURGE = FALSE;",
   "execution_count": null
  },
  {
   "cell_type": "code",
   "id": "c27ea49f-46e3-4442-995c-d7b2bdf5f069",
   "metadata": {
    "language": "sql",
    "name": "count"
   },
   "outputs": [],
   "source": "SELECT COUNT(*) FROM RAW_LINEITEMS;",
   "execution_count": null
  },
  {
   "cell_type": "code",
   "id": "8d4936f2-81d5-44ef-903f-897e9add9f6e",
   "metadata": {
    "language": "sql",
    "name": "projects_values"
   },
   "outputs": [],
   "source": "SELECT NULLIF(V:\"L_ORDERKEY\"::VARCHAR, '')::VARCHAR      AS L_ORDERKEY\n     , NULLIF(V:\"L_PARTKEY\"::VARCHAR, '')::VARCHAR       AS L_PARTKEY\n     , NULLIF(V:\"L_SUPPKEY\"::VARCHAR, '')::VARCHAR       AS L_SUPPKEY\n     , NULLIF(V:\"L_LINENUMBER\"::VARCHAR, '')::VARCHAR    AS L_LINENUMBER\n     , NULLIF(V:\"L_QUANTITY\"::VARCHAR, '')::VARCHAR      AS L_QUANTITY\n     , NULLIF(V:\"L_EXTENDEDPRICE\"::VARCHAR, '')::VARCHAR AS L_EXTENDEDPRICE\n     , NULLIF(V:\"L_DISCOUNT\"::VARCHAR, '')::VARCHAR      AS L_DISCOUNT\n     , NULLIF(V:\"L_TAX\"::VARCHAR, '')::VARCHAR           AS L_TAX\n     , NULLIF(V:\"L_RETURNFLAG\"::VARCHAR, '')::VARCHAR    AS L_RETURNFLAG\n     , NULLIF(V:\"L_LINESTATUS\"::VARCHAR, '')::VARCHAR    AS L_LINESTATUS\n     , NULLIF(V:\"L_SHIPDATE\"::VARCHAR, '')::VARCHAR      AS L_SHIPDATE\n     , NULLIF(V:\"L_COMMITDATE\"::VARCHAR, '')::VARCHAR    AS L_COMMITDATE\n     , NULLIF(V:\"L_RECEIPTDATE\"::VARCHAR, '')::VARCHAR   AS L_RECEIPTDATE\n     , NULLIF(V:\"L_SHIPINSTRUCT\"::VARCHAR, '')::VARCHAR  AS L_SHIPINSTRUCT\n     , NULLIF(V:\"L_SHIPMODE\"::VARCHAR, '')::VARCHAR      AS L_SHIPMODE\n     , NULLIF(V:\"L_COMMENT\"::VARCHAR, '')::VARCHAR       AS L_COMMENT\nFROM RAW_LINEITEMS\nLIMIT 3;",
   "execution_count": null
  },
  {
   "cell_type": "markdown",
   "id": "925290d0-ac38-4d0f-ae1a-4c9b73c17d71",
   "metadata": {
    "name": "engine",
    "collapsed": false
   },
   "source": "# Universal Engine"
  },
  {
   "cell_type": "code",
   "id": "41091bba-62e6-4797-8483-e429f02e8191",
   "metadata": {
    "language": "python",
    "name": "read_using_python"
   },
   "outputs": [],
   "source": "#import snowflake.snowpark.modin.pandas as pd\nsession.use_database('MASTERCLASS')\nsession.use_schema('PUBLIC')\n\ndf = session.read.parquet('@DATA_STAGE')",
   "execution_count": null
  },
  {
   "cell_type": "code",
   "id": "6773201e-7367-4fd0-8274-59857d59e4a0",
   "metadata": {
    "language": "sql",
    "name": "create_table_flatten",
    "codeCollapsed": false
   },
   "outputs": [],
   "source": "CREATE OR REPLACE TABLE LINEITEMS (\n    PK_ID               NUMBER(38, 0) NOT NULL IDENTITY(1,1) COMMENT 'Primary key'\n    ,L_ORDERKEY VARCHAR(100)\n    ,L_PARTKEY VARCHAR(100)\n    ,L_SUPPKEY VARCHAR(100)\n    ,L_LINENUMBER VARCHAR(100)\n    ,L_QUANTITY VARCHAR(100)\n    ,L_EXTENDEDPRICE VARCHAR(100)\n    ,L_DISCOUNT VARCHAR(100)\n    ,L_TAX VARCHAR(100)\n    ,L_RETURNFLAG VARCHAR(100)\n    ,L_LINESTATUS VARCHAR(100)\n    ,L_SHIPDATE VARCHAR(100)\n    ,L_COMMITDATE VARCHAR(100)\n    ,L_RECEIPTDATE VARCHAR(100)\n    ,L_SHIPINSTRUCT VARCHAR(100)\n    ,L_SHIPMODE VARCHAR(100)\n    ,L_COMMENT VARCHAR(100)\n    ,FILE_NAME           VARCHAR(500)\n    ,FILE_LAST_MODIFIED  TIMESTAMP_NTZ\n    ,INSERTED_DATE       TIMESTAMP_NTZ DEFAULT CURRENT_TIMESTAMP()\n    ,CONSTRAINT LINEITEMS_PK PRIMARY KEY (PK_ID)\n) COMMENT = 'LINEITEMS table to load the data from S3 bucket';",
   "execution_count": null
  },
  {
   "cell_type": "code",
   "id": "3b5c6d89-dede-4cde-8e33-e7df30125acc",
   "metadata": {
    "language": "python",
    "name": "load_using_snowpark",
    "codeCollapsed": false
   },
   "outputs": [],
   "source": "df.copy_into_table(\n    \"LINEITEMS\",\n    pattern=r'.*\\.parquet',\n    on_error=\"CONTINUE\",\n    force=False\n)",
   "execution_count": null
  },
  {
   "cell_type": "code",
   "id": "b8dacc26-3a1e-40b7-9a22-908c217725c1",
   "metadata": {
    "language": "sql",
    "name": "select_items",
    "codeCollapsed": false
   },
   "outputs": [],
   "source": "SELECT * FROM LINEITEMS LIMIT 5;",
   "execution_count": null
  },
  {
   "cell_type": "code",
   "id": "c2bbb0ae-6ccb-4e74-8082-092babaf1098",
   "metadata": {
    "language": "sql",
    "name": "select_count_items"
   },
   "outputs": [],
   "source": "SELECT COUNT(*) FROM LINEITEMS;",
   "execution_count": null
  }
 ]
}