{
 "cells": [
  {
   "cell_type": "code",
   "execution_count": null,
   "id": "3775908f-ca36-4846-8f38-5adca39217f2",
   "metadata": {
    "language": "python",
    "name": "create_session"
   },
   "outputs": [],
   "source": [
    "# Import python packages\n",
    "import streamlit as st\n",
    "import pandas as pd\n",
    "\n",
    "# We can also use Snowpark for our analyses!\n",
    "from snowflake.snowpark.context import get_active_session\n",
    "session = get_active_session()"
   ]
  },
  {
   "cell_type": "code",
   "execution_count": null,
   "id": "2e084ab4-d046-4556-b025-dd1a06c24daa",
   "metadata": {
    "codeCollapsed": false,
    "language": "python",
    "name": "set_session"
   },
   "outputs": [],
   "source": [
    "session.use_role('SYSADMIN')"
   ]
  },
  {
   "cell_type": "code",
   "execution_count": null,
   "id": "8d50cbf4-0c8d-4950-86cb-114990437ac9",
   "metadata": {
    "codeCollapsed": false,
    "language": "sql",
    "name": "create_resources"
   },
   "outputs": [],
   "source": [
    "CREATE DATABASE IF NOT EXISTS MASTERCLASS\n",
    "  DATA_RETENTION_TIME_IN_DAYS = 2\n",
    "  COMMENT = 'Database for the Snowflake Masterclass';\n",
    "\n",
    "CREATE WAREHOUSE IF NOT EXISTS MASTERCLASSWH\n",
    "  WAREHOUSE_TYPE = STANDARD\n",
    "  RESOURCE_CONSTRAINT = 'STANDARD_GEN_2'\n",
    "  WAREHOUSE_SIZE = SMALL\n",
    "  MAX_CLUSTER_COUNT = 2\n",
    "  MIN_CLUSTER_COUNT = 1\n",
    "  SCALING_POLICY = STANDARD\n",
    "  AUTO_SUSPEND = 60\n",
    "  AUTO_RESUME = TRUE\n",
    "  INITIALLY_SUSPENDED = TRUE\n",
    "  ENABLE_QUERY_ACCELERATION = TRUE\n",
    "  QUERY_ACCELERATION_MAX_SCALE_FACTOR = 2\n",
    "  COMMENT = 'Masterclass Warehouse';\n",
    "\n",
    "CREATE FILE FORMAT IF NOT EXISTS MASTERCLASS.PUBLIC.GENERIC_CSV\n",
    " TYPE = 'CSV'\n",
    " COMPRESSION = AUTO\n",
    " RECORD_DELIMITER = '\\n'\n",
    " FIELD_DELIMITER = ','\n",
    " MULTI_LINE = TRUE\n",
    " PARSE_HEADER = FALSE\n",
    " SKIP_HEADER = 1\n",
    " SKIP_BLANK_LINES = TRUE\n",
    " TRIM_SPACE = TRUE\n",
    " FIELD_OPTIONALLY_ENCLOSED_BY = '\"'\n",
    " EMPTY_FIELD_AS_NULL = TRUE;\n",
    "\n",
    "CREATE OR REPLACE STAGE MASTERCLASS.PUBLIC.INTERNAL_DATA_STAGE\n",
    "  ENCRYPTION = (TYPE = 'SNOWFLAKE_SSE' )\n",
    "  DIRECTORY  = (ENABLE = TRUE AUTO_REFRESH = TRUE)\n",
    "  COMMENT = 'Stage to load data';"
   ]
  },
  {
   "cell_type": "markdown",
   "id": "171734f5-5db8-42f0-9666-4a4f24b76f56",
   "metadata": {
    "collapsed": false,
    "name": "load_file"
   },
   "source": [
    "# LOAD FILE TO STAGE"
   ]
  },
  {
   "cell_type": "markdown",
   "id": "1b8a94ec-c088-4329-87f3-072c1b087d4b",
   "metadata": {
    "collapsed": false,
    "name": "process_file"
   },
   "source": [
    "# PROCESS FILE"
   ]
  },
  {
   "cell_type": "code",
   "execution_count": null,
   "id": "c695373e-ac74-4b62-a1f1-08206cbd5c81",
   "metadata": {
    "codeCollapsed": false,
    "language": "sql",
    "name": "create_table"
   },
   "outputs": [],
   "source": [
    "USE ROLE ACCOUNTADMIN;\n",
    "USE WAREHOUSE MASTERCLASSWH;\n",
    "USE SCHEMA MASTERCLASS.PUBLIC;\n",
    "\n",
    "CREATE OR REPLACE TABLE MASTERCLASS.PUBLIC.CIRCUITS AS\n",
    "SELECT\n",
    " NULLIF(t.$1::VARCHAR, '') AS CIRCUITID\n",
    ",NULLIF(t.$2::VARCHAR, '') AS CIRCUITREF\n",
    ",NULLIF(t.$3::VARCHAR, '') AS NAME\n",
    ",NULLIF(t.$4::VARCHAR, '') AS LOCATION\n",
    ",NULLIF(t.$5::VARCHAR, '') AS COUNTRY\n",
    ",NULLIF(t.$6::VARCHAR, '') AS LAT\n",
    ",NULLIF(t.$7::VARCHAR, '') AS LNG\n",
    ",NULLIF(t.$8::VARCHAR, '') AS ALT\n",
    ",NULLIF(t.$9::VARCHAR, '') AS URL\n",
    "FROM '@\"MASTERCLASS\".\"PUBLIC\".\"INTERNAL_DATA_STAGE\"/circuits.csv' t;"
   ]
  },
  {
   "cell_type": "code",
   "execution_count": null,
   "id": "3d5447da-ec81-4fd3-83e3-3f82c5ea0bfb",
   "metadata": {
    "codeCollapsed": false,
    "language": "python",
    "name": "read_table"
   },
   "outputs": [],
   "source": [
    "df = session.read.table(\"MASTERCLASS.PUBLIC.CIRCUITS\")\n",
    "df.limit(5)"
   ]
  }
 ],
 "metadata": {
  "kernelspec": {
   "display_name": "Streamlit Notebook",
   "name": "streamlit"
  },
  "lastEditStatus": {
   "authorEmail": "enrique.plata@snowflake.com",
   "authorId": "1198241009978",
   "authorName": "ENRIQUEP",
   "lastEditTime": 1747480129072,
   "notebookId": "bxz6x7yfvhotigcc5yc7",
   "sessionId": "a64deda1-2e05-41ff-999c-b9f20443336b"
  }
 },
 "nbformat": 4,
 "nbformat_minor": 5
}
